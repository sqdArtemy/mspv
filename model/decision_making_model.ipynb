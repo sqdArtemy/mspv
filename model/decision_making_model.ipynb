{
 "cells": [
  {
   "metadata": {},
   "cell_type": "markdown",
   "source": "# Imports",
   "id": "ddda234cae5b6c53"
  },
  {
   "metadata": {
    "ExecuteTime": {
     "end_time": "2025-01-12T15:23:13.066230Z",
     "start_time": "2025-01-12T15:23:11.174346Z"
    }
   },
   "cell_type": "code",
   "source": [
    "import pandas as pd\n",
    "import joblib\n",
    "\n",
    "from sklearn.model_selection import train_test_split\n",
    "from sklearn.ensemble import RandomForestClassifier\n",
    "from sklearn.multioutput import MultiOutputClassifier\n",
    "from sklearn.preprocessing import OneHotEncoder, StandardScaler\n",
    "from sklearn.compose import ColumnTransformer\n",
    "from sklearn.pipeline import Pipeline\n",
    "from sklearn.metrics import classification_report, accuracy_score\n"
   ],
   "id": "54a71d106a1b388",
   "outputs": [],
   "execution_count": 1
  },
  {
   "metadata": {},
   "cell_type": "markdown",
   "source": "### Loading data",
   "id": "e58d71d343d0f244"
  },
  {
   "metadata": {
    "ExecuteTime": {
     "end_time": "2025-01-12T15:23:13.123339Z",
     "start_time": "2025-01-12T15:23:13.066230Z"
    }
   },
   "cell_type": "code",
   "source": [
    "data = pd.read_csv('../data/decisions.csv')\n",
    "data = data.drop(columns=['screenshot_title'])\n",
    "\n",
    "features = data[['activity', 'hearts', 'light_lvl', 'in_hand_item', 'target_mob']]\n",
    "targets = data[['decision_activity', 'decision_hearts', 'decision_light', 'decision_mob']]\n",
    "\n",
    "features_train, features_test, targets_train, targets_test = train_test_split(features, targets, test_size=0.2)\n"
   ],
   "id": "eb127d248118d5b6",
   "outputs": [],
   "execution_count": 2
  },
  {
   "metadata": {},
   "cell_type": "markdown",
   "source": "### Preprocessing pipeline",
   "id": "11d4935b6a47888"
  },
  {
   "cell_type": "code",
   "id": "initial_id",
   "metadata": {
    "collapsed": true,
    "ExecuteTime": {
     "end_time": "2025-01-12T15:23:13.129465Z",
     "start_time": "2025-01-12T15:23:13.123339Z"
    }
   },
   "source": [
    "preprocessor = ColumnTransformer(\n",
    "    transformers=[\n",
    "        ('cat', OneHotEncoder(), ['activity', 'light_lvl', 'in_hand_item', 'target_mob']),\n",
    "        ('num', StandardScaler(), ['hearts'])\n",
    "    ])\n",
    "\n",
    "clf = MultiOutputClassifier(RandomForestClassifier())\n",
    "\n",
    "\n",
    "pipeline = Pipeline(steps=[\n",
    "    ('preprocessor', preprocessor),\n",
    "    ('classifier', clf)\n",
    "])\n"
   ],
   "outputs": [],
   "execution_count": 3
  },
  {
   "metadata": {},
   "cell_type": "markdown",
   "source": "### Training and saving model",
   "id": "3deafb68be051526"
  },
  {
   "metadata": {
    "ExecuteTime": {
     "end_time": "2025-01-12T15:23:14.827883Z",
     "start_time": "2025-01-12T15:23:13.131473Z"
    }
   },
   "cell_type": "code",
   "source": [
    "pipeline.fit(features_train, targets_train)\n",
    "joblib.dump(pipeline, \"decisions_model.pkl\")\n"
   ],
   "id": "288e78a9ea6e9e7c",
   "outputs": [
    {
     "data": {
      "text/plain": [
       "['decisions_model.pkl']"
      ]
     },
     "execution_count": 4,
     "metadata": {},
     "output_type": "execute_result"
    }
   ],
   "execution_count": 4
  },
  {
   "metadata": {},
   "cell_type": "markdown",
   "source": "### Evaluating model",
   "id": "af5bacd9438b196"
  },
  {
   "metadata": {
    "ExecuteTime": {
     "end_time": "2025-01-12T15:23:14.876518Z",
     "start_time": "2025-01-12T15:23:14.828889Z"
    }
   },
   "cell_type": "code",
   "source": "print(\"Model Score:\", pipeline.score(features_test, targets_test))\n",
   "id": "d703e77245ea4140",
   "outputs": [
    {
     "name": "stdout",
     "output_type": "stream",
     "text": [
      "Model Score: 0.8702791461412152\n"
     ]
    }
   ],
   "execution_count": 5
  },
  {
   "metadata": {
    "ExecuteTime": {
     "end_time": "2025-01-12T15:23:15.019162Z",
     "start_time": "2025-01-12T15:23:14.879033Z"
    }
   },
   "cell_type": "code",
   "source": [
    "# Detailed model insight\n",
    "per_column_accuracies = {}\n",
    "predictions = pipeline.predict(features_test)\n",
    "pred_df = pd.DataFrame(predictions, columns=targets_test.columns, index=targets_test.index)\n",
    "\n",
    "for col in targets_test.columns:\n",
    "    print(f\"\\nClassification Report for: {col}\")\n",
    "    print(classification_report(targets_test[col], pred_df[col]))\n",
    "    per_column_accuracies[col] = accuracy_score(targets_test[col], pred_df[col])\n",
    "\n",
    "avg_accuracy = sum(per_column_accuracies.values()) / len(per_column_accuracies)\n",
    "print(\"\\nAccuracy per target:\", per_column_accuracies)\n",
    "print(f\"Average Accuracy across all outputs: {avg_accuracy:.4f}\")\n"
   ],
   "id": "5c6ed73e70c2cf29",
   "outputs": [
    {
     "name": "stdout",
     "output_type": "stream",
     "text": [
      "\n",
      "Classification Report for: decision_activity\n",
      "                      precision    recall  f1-score   support\n",
      "\n",
      "          give_haste       1.00      1.00      1.00       131\n",
      "     give_jump_boost       0.97      1.00      0.99        99\n",
      "     give_resistance       1.00      0.98      0.99       377\n",
      "          give_speed       1.00      1.00      1.00       100\n",
      "       give_strength       0.99      1.00      1.00       307\n",
      "give_water_breathing       1.00      1.00      1.00       204\n",
      "\n",
      "            accuracy                           1.00      1218\n",
      "           macro avg       0.99      1.00      1.00      1218\n",
      "        weighted avg       1.00      1.00      1.00      1218\n",
      "\n",
      "\n",
      "Classification Report for: decision_hearts\n",
      "                        precision    recall  f1-score   support\n",
      "\n",
      "   give_regeneration_1       0.96      0.93      0.95       117\n",
      "   give_regeneration_2       0.95      0.97      0.96       124\n",
      "   give_regeneration_3       0.98      1.00      0.99       248\n",
      "   give_regeneration_4       1.00      0.98      0.99       177\n",
      "no_decision_for_hearts       1.00      1.00      1.00       552\n",
      "\n",
      "              accuracy                           0.99      1218\n",
      "             macro avg       0.98      0.98      0.98      1218\n",
      "          weighted avg       0.99      0.99      0.99      1218\n",
      "\n",
      "\n",
      "Classification Report for: decision_light\n",
      "                       precision    recall  f1-score   support\n",
      "\n",
      "no_decision_for_light       1.00      1.00      1.00       601\n",
      "   palce_light_source       0.52      0.36      0.43       135\n",
      "   place_light_source       0.84      0.91      0.87       482\n",
      "\n",
      "             accuracy                           0.89      1218\n",
      "            macro avg       0.78      0.76      0.76      1218\n",
      "         weighted avg       0.88      0.89      0.88      1218\n",
      "\n",
      "\n",
      "Classification Report for: decision_mob\n",
      "                     precision    recall  f1-score   support\n",
      "\n",
      "            go_back       1.00      1.00      1.00        39\n",
      "no_decision_for_mob       0.99      0.99      0.99       912\n",
      "           take_bow       1.00      0.99      1.00       120\n",
      "         take_sword       0.93      0.97      0.95       147\n",
      "\n",
      "           accuracy                           0.99      1218\n",
      "          macro avg       0.98      0.99      0.98      1218\n",
      "       weighted avg       0.99      0.99      0.99      1218\n",
      "\n",
      "\n",
      "Accuracy per target: {'decision_activity': 0.9950738916256158, 'decision_hearts': 0.986863711001642, 'decision_light': 0.8916256157635468, 'decision_mob': 0.9860426929392446}\n",
      "Average Accuracy across all outputs: 0.9649\n"
     ]
    }
   ],
   "execution_count": 6
  }
 ],
 "metadata": {
  "kernelspec": {
   "display_name": "Python 3",
   "language": "python",
   "name": "python3"
  },
  "language_info": {
   "codemirror_mode": {
    "name": "ipython",
    "version": 2
   },
   "file_extension": ".py",
   "mimetype": "text/x-python",
   "name": "python",
   "nbconvert_exporter": "python",
   "pygments_lexer": "ipython2",
   "version": "2.7.6"
  }
 },
 "nbformat": 4,
 "nbformat_minor": 5
}
