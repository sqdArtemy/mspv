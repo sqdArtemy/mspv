{
 "cells": [
  {
   "metadata": {},
   "cell_type": "code",
   "source": [
    "# Imports\n",
    "import pandas as pd\n",
    "import os\n",
    "from PIL import Image\n",
    "import glob\n"
   ],
   "id": "7e6e43ad2a7f6ba3",
   "outputs": [],
   "execution_count": null
  },
  {
   "cell_type": "code",
   "id": "initial_id",
   "metadata": {
    "collapsed": true
   },
   "source": [
    "# Convert .xlsx to .csv\n",
    "def xlsx_to_csv(excel_file: str, sheet_name: str, output_file: str) -> None:\n",
    "    df = pd.read_excel(excel_file, sheet_name=sheet_name)\n",
    "    df.to_csv(output_file, index=False)\n",
    "    print(f\"Converted {excel_file} to {output_file}\")\n"
   ],
   "outputs": [],
   "execution_count": null
  },
  {
   "metadata": {},
   "cell_type": "code",
   "source": [
    "excel_file = \"./new_sorted.xlsx\"\n",
    "csv_file = \"./sorted_decisions.csv\"\n",
    "sheet_name = \"Sheet1\"\n",
    "xlsx_to_csv(excel_file, sheet_name, csv_file)\n"
   ],
   "id": "c6805131e83a6d",
   "outputs": [],
   "execution_count": null
  },
  {
   "metadata": {},
   "cell_type": "code",
   "source": [
    "# Fill empty fields\n",
    "df = pd.read_csv(csv_file)\n",
    "df['in_hand_item'].fillna('no_item', inplace=True)\n",
    "df['target_mob'].fillna('no_mob', inplace=True)\n",
    "\n",
    "df.to_csv(csv_file, index=False)\n"
   ],
   "id": "e42501260d3a1a6a",
   "outputs": [],
   "execution_count": null
  },
  {
   "metadata": {},
   "cell_type": "code",
   "source": [
    "# Compressing images\n",
    "def compress_image(image_path, output_path, max_size=(800, 450), quality=85):\n",
    "    try:\n",
    "        with Image.open(image_path) as img:\n",
    "            if img.mode == 'RGBA':\n",
    "                img = img.convert('RGB')\n",
    "                \n",
    "            img.thumbnail(max_size)\n",
    "            img.save(output_path, \"JPEG\", quality=quality)\n",
    "            print(f\"Image compressed and saved: {output_path}\")\n",
    "    except Exception as e:\n",
    "        print(f\"Error compressing {image_path}: {e}\")\n",
    "\n",
    "def compress_images_in_folder(input_folder, output_folder, max_size=(800, 450), quality=85):\n",
    "    if not os.path.exists(output_folder):\n",
    "        os.makedirs(output_folder)\n",
    "\n",
    "    for filename in os.listdir(input_folder):\n",
    "        input_path = os.path.join(input_folder, filename)\n",
    "        if os.path.isfile(input_path) and filename.lower().endswith(('.png', '.jpg', '.jpeg')):\n",
    "            output_path = os.path.join(output_folder, filename)\n",
    "            compress_image(input_path, output_path, max_size, quality)\n",
    "\n",
    "input_folder = \"./raw_images\"\n",
    "output_folder = \"./compressed_images\"\n",
    "\n",
    "compress_images_in_folder(input_folder, output_folder)\n"
   ],
   "id": "31e2a307aaa1bef6",
   "outputs": [],
   "execution_count": null
  },
  {
   "metadata": {},
   "cell_type": "code",
   "source": [
    "# Crop only hearts and toolbar fragments\n",
    "def process_screenshots(input_folder, hearts_output_folder, in_hand_output_folder):\n",
    "    os.makedirs(hearts_output_folder, exist_ok=True)\n",
    "    os.makedirs(in_hand_output_folder, exist_ok=True)\n",
    "\n",
    "    heart_region_coords = (215, 370, 400,  420)\n",
    "    in_hand_region_coords = (200, 410, 600,  450)\n",
    "\n",
    "    screenshot_files = glob.glob(os.path.join(input_folder, '*.png'))\n",
    "\n",
    "    for screenshot_path in screenshot_files:\n",
    "        image = Image.open(screenshot_path).convert('RGB')\n",
    "\n",
    "        heart_region = image.crop(heart_region_coords)\n",
    "        heart_filename = os.path.join(hearts_output_folder, os.path.basename(screenshot_path))\n",
    "        heart_region.save(heart_filename)\n",
    "\n",
    "        in_hand_region = image.crop(in_hand_region_coords)\n",
    "        in_hand_filename = os.path.join(in_hand_output_folder, os.path.basename(screenshot_path))\n",
    "        in_hand_region.save(in_hand_filename)\n",
    "\n",
    "        print(f\"Processed {os.path.basename(screenshot_path)}\")\n",
    "\n",
    "input_folder = \"./compressed_images\"\n",
    "hearts_output_folder = \"./hearts_regions\"\n",
    "in_hand_output_folder = \"./in_hand_regions\"\n",
    "process_screenshots(input_folder, hearts_output_folder, in_hand_output_folder)\n"
   ],
   "id": "cf8f88e36c0395c8",
   "outputs": [],
   "execution_count": null
  }
 ],
 "metadata": {
  "kernelspec": {
   "display_name": "Python 3",
   "language": "python",
   "name": "python3"
  },
  "language_info": {
   "codemirror_mode": {
    "name": "ipython",
    "version": 2
   },
   "file_extension": ".py",
   "mimetype": "text/x-python",
   "name": "python",
   "nbconvert_exporter": "python",
   "pygments_lexer": "ipython2",
   "version": "2.7.6"
  }
 },
 "nbformat": 4,
 "nbformat_minor": 5
}
